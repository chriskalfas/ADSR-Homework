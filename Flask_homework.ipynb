{
 "cells": [
  {
   "cell_type": "code",
   "execution_count": null,
   "metadata": {},
   "outputs": [],
   "source": [
    "from flask import Flask, jsonify"
   ]
  },
  {
   "cell_type": "code",
   "execution_count": null,
   "metadata": {},
   "outputs": [],
   "source": [
    "hawaii_app = Flask(__name__)"
   ]
  },
  {
   "cell_type": "code",
   "execution_count": null,
   "metadata": {},
   "outputs": [],
   "source": [
    "@hawaii_app.route(\"/\")\n",
    "def home():\n",
    "    print(\"Server received request for 'Home'page...\")\n",
    "    return(\"Welcome to the Hawaii Climate Analysis API\")\n",
    "    return(\"Available Routes:\")\n",
    "    return(\"/api/v1.0/precipitation\")\n",
    "    return(\"/api/v1.0/stations\")\n",
    "    return(\"/api/v1.0/tobs\")\n",
    "    return(\"/api/v1.0/temp/start/end\")"
   ]
  },
  {
   "cell_type": "code",
   "execution_count": null,
   "metadata": {},
   "outputs": [],
   "source": [
    "@hawaii_app.route(\"/api/v1.0/precipitation\")\n",
    "def precip():\n",
    "    "
   ]
  }
 ],
 "metadata": {
  "kernelspec": {
   "display_name": "Python [conda env:Anaconda3]",
   "language": "python",
   "name": "conda-env-Anaconda3-py"
  },
  "language_info": {
   "codemirror_mode": {
    "name": "ipython",
    "version": 3
   },
   "file_extension": ".py",
   "mimetype": "text/x-python",
   "name": "python",
   "nbconvert_exporter": "python",
   "pygments_lexer": "ipython3",
   "version": "3.6.6"
  }
 },
 "nbformat": 4,
 "nbformat_minor": 2
}
